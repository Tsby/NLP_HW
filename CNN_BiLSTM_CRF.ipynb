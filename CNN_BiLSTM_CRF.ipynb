{
 "cells": [
  {
   "cell_type": "code",
   "execution_count": 0,
   "metadata": {
    "colab": {},
    "colab_type": "code",
    "id": "cU4lVjdi3o12"
   },
   "outputs": [],
   "source": [
    "import warnings\n",
    "warnings.filterwarnings(\"ignore\")"
   ]
  },
  {
   "cell_type": "code",
   "execution_count": 0,
   "metadata": {
    "colab": {},
    "colab_type": "code",
    "id": "uj7G1lPk3VTk"
   },
   "outputs": [],
   "source": [
    "import os\n",
    "\n",
    "from torchtext import data\n",
    "from torchtext.data import Dataset\n",
    "from torchtext.datasets import SequenceTaggingDataset\n",
    "from sklearn.model_selection import train_test_split\n",
    "\n",
    "\n",
    "EVENTS_TSV = '/events/tsv/'\n",
    "ENTITIES_TSV = '/entities/tsv/'\n",
    "\n",
    "class DataLoader:\n",
    "    def __init__(self):\n",
    "        self.entities_files = [file.split('.')[0] for file in os.listdir(ENTITIES_TSV)]\n",
    "        self.events_files = [file.split('.')[0] for file in os.listdir(EVENTS_TSV)]\n",
    "        \n",
    "        self.all_entities = self._tsv_parser(ENTITIES_TSV, self.entities_files)\n",
    "        self.all_events = self._tsv_parser(EVENTS_TSV, self.events_files)\n",
    "        \n",
    "        entities_tags = set([t for row in self.all_entities[1] for t in row])\n",
    "        \n",
    "        self.entities_tag2index = {t : num for num, t in enumerate(entities_tags)}\n",
    "        self.entities_index2tag = {v : k for k, v in self.entities_tag2index.items()}\n",
    "        \n",
    "        self.text_vocab = None\n",
    "        self.id2text_vocab = None\n",
    "\n",
    "        self.events_tag_vocab = None\n",
    "        self.events_dataset = self._get_dataset(EVENTS_TSV, self.events_files, dataset='events')\n",
    "\n",
    "        self.entities_tag_vocab = None\n",
    "        self.entities_dataset = self._get_dataset(ENTITIES_TSV, self.entities_files, dataset='entities')\n",
    "\n",
    "        self.char2index = {w : num + 1 for num, w in enumerate(set(''.join(self.all_entities[0])))}\n",
    "        self.index2char = {v : k for k, v in self.char2index.items()}\n",
    "        self.char2index['#'] = 0\n",
    "        self.index2char[0] = '#'\n",
    "    \n",
    "    \n",
    "    def _tsv_parser(self, path, files):\n",
    "        words = []\n",
    "        tags = []\n",
    "        \n",
    "        for file in files:\n",
    "            for row in open(path + file + '.tsv').read().splitlines():\n",
    "                if row == '':\n",
    "                    continue\n",
    "\n",
    "                words.append(row.lower().split()[0])\n",
    "                \n",
    "                if path.split('/')[1] == 'events':\n",
    "                    tags.append(row.split()[1])\n",
    "                else:\n",
    "                    tags.append(row.split()[1:])\n",
    "                \n",
    "        return words, tags\n",
    "    \n",
    "    \n",
    "    def get_train_val_test_entities(self, val_size=0.5, test_size=0.2, random_state=42):\n",
    "        train, test = train_test_split(self.entities_files,\n",
    "                                       test_size=test_size,\n",
    "                                       random_state=random_state)\n",
    "        \n",
    "        val, test = train_test_split(train,\n",
    "                                      test_size=val_size,\n",
    "                                      random_state=random_state)\n",
    "\n",
    "        return self._tsv_parser(ENTITIES_TSV, train), \\\n",
    "               self._tsv_parser(ENTITIES_TSV, val), \\\n",
    "               self._tsv_parser(ENTITIES_TSV, test)\n",
    "    \n",
    "    \n",
    "    def _get_dataset(self, path, files, dataset='events'):\n",
    "        sentence_field = data.Field(init_token = \"<sos>\", eos_token = \"<eos>\", lower=True)\n",
    "        tag_field = data.Field(init_token = \"<sos>\", eos_token = \"<eos>\", is_target=True)\n",
    "        fields=(('sentence', sentence_field), ('tags', tag_field))\n",
    "\n",
    "        examples = None\n",
    "\n",
    "        for file in files:\n",
    "            std = SequenceTaggingDataset(path=path + file + '.tsv', fields=fields)\n",
    "\n",
    "            if examples == None:\n",
    "                examples = std.examples\n",
    "            else:\n",
    "                examples += std.examples\n",
    "\n",
    "        dataset = Dataset(examples, fields=fields)\n",
    "        \n",
    "        sentence_field.build_vocab(dataset)\n",
    "        tag_field.build_vocab(dataset)\n",
    "        \n",
    "        self.text_vocab = sentence_field.vocab\n",
    "        self.id2text_vocab = {i : word for i, word in enumerate(self.text_vocab.itos)}\n",
    "\n",
    "        if dataset == 'events':\n",
    "            self.events_tag_vocab = tag_field.vocab\n",
    "        else:\n",
    "          self.entities_tag_vocab = tag_field.vocab\n",
    "        \n",
    "        return dataset\n",
    "\n",
    "\n",
    "    def get_train_val_test(self, dataset='events', train_size=0.8, val_size=0.5):\n",
    "        if dataset == 'events':\n",
    "            train, test = self.events_dataset.split(split_ratio=train_size)\n",
    "        else:\n",
    "            train, test = self.entities_dataset.split(split_ratio=train_size)\n",
    "        val, test = test.split(split_ratio=val_size)\n",
    "        return train, val, test"
   ]
  },
  {
   "cell_type": "code",
   "execution_count": 0,
   "metadata": {
    "colab": {},
    "colab_type": "code",
    "id": "536sCwAI4rLk"
   },
   "outputs": [],
   "source": [
    "dl = DataLoader()"
   ]
  },
  {
   "cell_type": "code",
   "execution_count": 0,
   "metadata": {
    "colab": {},
    "colab_type": "code",
    "id": "V6l7SFWa5_I2"
   },
   "outputs": [],
   "source": [
    "from torchtext.data import BucketIterator\n",
    "\n",
    "def get_sentences(data, n_sentences):\n",
    "    sentences, tags = [], []\n",
    "    \n",
    "    for num, sentence in enumerate(tqdm(data[0])):\n",
    "        sentence_tensor = torch.LongTensor([dl.word2index[w] for w in sentence])\n",
    "        sentences.append(autograd.Variable(sentence_tensor))\n",
    "        \n",
    "        tag_tensor = torch.LongTensor([dl.events_tag2index[t] for t in data[1][num]])\n",
    "        tags.append(autograd.Variable(tag_tensor))\n",
    "        \n",
    "        if len(sentences) == n_sentences:\n",
    "            yield torch.cat(sentences), torch.cat(tags)\n",
    "            sentences, tags = [], []\n",
    "            \n",
    "def get_batches(data, batch_size):\n",
    "    return BucketIterator(data, \\\n",
    "                          batch_size=batch_size, \\\n",
    "                          sort_key=lambda x: data.interleave_keys(len(x.sentence), len(x.tag)), \\\n",
    "                          shuffle=True \\\n",
    "                         )"
   ]
  },
  {
   "cell_type": "code",
   "execution_count": 0,
   "metadata": {
    "colab": {},
    "colab_type": "code",
    "id": "kclGXs7mZufU"
   },
   "outputs": [],
   "source": []
  },
  {
   "cell_type": "markdown",
   "metadata": {
    "colab_type": "text",
    "id": "jQMI2L5HMG9W"
   },
   "source": [
    "## 2.1"
   ]
  },
  {
   "cell_type": "markdown",
   "metadata": {},
   "source": [
    "Реализуем архитектуру *CNN-BiLSTM-CRF* для извлечения именованных сущностей, то есть каждому слову сопоставляем один из возможных тэгов.\n",
    "\n",
    "Архитектура состоит из трех частей: \n",
    "1. *CNN* на символах\n",
    "2. *BiLSTM* на объединении эмбеддингов слов и признаков из *CNN*\n",
    "3. *CRF* на выходе(логитах) из полносвязного слоя для подсчета условных вероятностей появления классов(например, учитывать, что вероятность тэга I-...(Inside) после тэга O(out) была минимальной)"
   ]
  },
  {
   "cell_type": "markdown",
   "metadata": {},
   "source": [
    "Загрузим данные для датасета именованных сущностей."
   ]
  },
  {
   "cell_type": "code",
   "execution_count": 0,
   "metadata": {
    "colab": {},
    "colab_type": "code",
    "id": "qCdSvgTHZvzB"
   },
   "outputs": [],
   "source": [
    "train_data, val_data, test_data = dl.get_train_val_test(dataset='entities', train_size=0.8, val_size=0.5)"
   ]
  },
  {
   "cell_type": "markdown",
   "metadata": {},
   "source": [
    "Реализуем вспомогательные функции для подготовки датасета. Здесь данные будут иметь иной от следующих пунктов вид, так как для *CNN* необходимо символьное представление слов(то есть слова в виде набора индексов символов из словаря). \n",
    "\n",
    "\n",
    "*sentance_to_char_matrix* переводит предложение в матрицу, в которой каждая строка соответсвует слову из предложения, а по столбцам располагаются индексы символов из словаря.\n",
    "\n",
    "*get_cnn_loader* формирует батчи, в каждый из которых входит *batch_size* предложений. Зададим количество предложений в батче = 32."
   ]
  },
  {
   "cell_type": "code",
   "execution_count": 0,
   "metadata": {
    "colab": {},
    "colab_type": "code",
    "id": "z-n1BCvJMOvL"
   },
   "outputs": [],
   "source": [
    "import numpy as np\n",
    "\n",
    "def sentance_to_char_matrix(words, max_len=None, pad=dl.char2index['#'], dtype=np.int64):\n",
    "    max_len = max_len or max(map(len, words))\n",
    "    words_ix = np.zeros([len(words), max_len], dtype) + pad\n",
    "\n",
    "    for i in range(len(words)):\n",
    "        word_ix = list(map(dl.char2index.get, words[i]))\n",
    "        words_ix[i, :len(word_ix)] = word_ix\n",
    "\n",
    "    word_ids = []\n",
    "    tensor_words = []\n",
    "    for i in range(len(words)):\n",
    "        tensor_words.append(torch.tensor(words_ix[i]))\n",
    "        word_ids.append(dl.text_vocab.stoi[words[i]])\n",
    "\n",
    "    return tuple((torch.tensor(word_ids), tensor_words))\n",
    "\n",
    "\n",
    "def get_cnn_loader(data, batch_size=32):\n",
    "    indexes = np.random.permutation(len(data))\n",
    "    num_batches = len(indexes) // batch_size\n",
    "\n",
    "    batches = []\n",
    "    batch_data = []\n",
    "    batch_targets = []\n",
    "\n",
    "    for i in range(len(indexes)):\n",
    "        if i % batch_size == 0 and i != 0:\n",
    "            batches.append(tuple((sentance_to_char_matrix(batch_data), batch_targets)))\n",
    "            batch_data = []\n",
    "            batch_targets = []\n",
    "\n",
    "        batch_data.extend(data[indexes[i]].sentence)\n",
    "        batch_targets.extend(map(lambda x: dl.entities_tag2index[x],\n",
    "                          data[indexes[i]].tags))\n",
    "    return batches"
   ]
  },
  {
   "cell_type": "markdown",
   "metadata": {},
   "source": [
    "Сформируем загрузчики батчей."
   ]
  },
  {
   "cell_type": "code",
   "execution_count": 0,
   "metadata": {
    "colab": {},
    "colab_type": "code",
    "id": "bC2KktmiNjb-"
   },
   "outputs": [],
   "source": [
    "cnn_train_loader = get_cnn_loader(train_data)\n",
    "cnn_val_loader = get_cnn_loader(val_data)\n",
    "cnn_test_loader = get_cnn_loader(test_data)"
   ]
  },
  {
   "cell_type": "markdown",
   "metadata": {},
   "source": [
    "Воспользуемся реализацией *CRF* из https://pytorch-crf.readthedocs.io/en/stable/#getting-started."
   ]
  },
  {
   "cell_type": "code",
   "execution_count": 60,
   "metadata": {
    "colab": {
     "base_uri": "https://localhost:8080/",
     "height": 34
    },
    "colab_type": "code",
    "id": "MWG76wc-D43o",
    "outputId": "f3d5dfe5-c22a-4763-9760-935f72f97577"
   },
   "outputs": [
    {
     "name": "stdout",
     "output_type": "stream",
     "text": [
      "Requirement already satisfied: pytorch-crf in /usr/local/lib/python3.6/dist-packages (0.7.2)\n"
     ]
    }
   ],
   "source": [
    "!pip install pytorch-crf"
   ]
  },
  {
   "cell_type": "markdown",
   "metadata": {},
   "source": [
    "Опишем архитектуру.\n",
    "\n",
    "Модель принимает предложения в двух видах: матрица символов и набор идексов слов из словаря.\n",
    "\n",
    "Матрицу символов обрабатывает *CNN*. Получает обобщенное представление слова, используя свертки разного размера, что позволяет избежать незначительных грамматических ошибок. Далее выход *CNN* объединяется с эмбеддингами слов и подается на вход *BiLSTM* слою. На выходе получаем логиты при помощи *log_softmax* из полносвязного слоя. Далее применяем *CRF* для нормализации предсказаний.  "
   ]
  },
  {
   "cell_type": "code",
   "execution_count": 0,
   "metadata": {
    "colab": {},
    "colab_type": "code",
    "id": "p51ar1RIATcc"
   },
   "outputs": [],
   "source": [
    "import torch.nn as nn\n",
    "import torch.nn.functional as F\n",
    "import torch.autograd as autograd\n",
    "import torch\n",
    "from torchcrf import CRF\n",
    "\n",
    "class CNN_BILSTM(nn.Module):\n",
    "    def __init__(self, ch_vocab_size, char_embedding_dim, word_embedding_dim, word_vocab_size, n_filters, \n",
    "                 filter_sizes, dropout, hidden_dim, output_cnn_dim=30, num_classes=13):\n",
    "        super().__init__()\n",
    "        self.hidden_dim = hidden_dim\n",
    "        \n",
    "        self.char_embedding = nn.Embedding(ch_vocab_size, char_embedding_dim)\n",
    "        self.convs = nn.ModuleList([nn.Conv2d(in_channels=1, out_channels=n_filters, \n",
    "                                              kernel_size=(size, char_embedding_dim)) for size in filter_sizes])\n",
    "        self.fc = nn.Linear(len(filter_sizes) * n_filters, output_cnn_dim)\n",
    "        self.dropout = nn.Dropout(dropout)\n",
    "        \n",
    "        self.word_embedding = nn.Embedding(word_vocab_size, word_embedding_dim)\n",
    "        \n",
    "        self.lstm = nn.LSTM(word_embedding_dim + output_cnn_dim, \n",
    "                            self.hidden_dim // 2, bidirectional=True, batch_first=True)\n",
    "        self.hidden2tag = nn.Linear(self.hidden_dim, num_classes)\n",
    "        \n",
    "        self.hidden = self.init_hidden()\n",
    "\n",
    "        self.CRF = CRF(num_classes, batch_first=True)\n",
    "        \n",
    "    def init_hidden(self):\n",
    "        return (autograd.Variable(torch.zeros(2, 1, self.hidden_dim // 2)),\n",
    "                autograd.Variable(torch.zeros(2, 1, self.hidden_dim // 2)))\n",
    "        \n",
    "    def forward(self, input):\n",
    "        out_cnn = []\n",
    "        \n",
    "        for x in input[1]:\n",
    "            x = x.view(1, -1)\n",
    "            char_embedded = self.char_embedding(x)\n",
    "            char_embedded = char_embedded.unsqueeze(1)\n",
    "            conved = [F.relu(conv(char_embedded)).squeeze(3) for conv in self.convs]\n",
    "            pooled = [F.max_pool1d(conv, conv.shape[2]).squeeze(2) for conv in conved]\n",
    "            char_cat = self.dropout(torch.cat((pooled), dim=1))\n",
    "            out_cnn.append(char_cat)\n",
    "            \n",
    "        out_cnn = torch.cat(out_cnn, dim=0)\n",
    "        fin_cat = torch.cat((self.word_embedding(input[0]), out_cnn), 1)\n",
    "        char_cat = fin_cat.unsqueeze(1)\n",
    "        char_cat = self.dropout(char_cat)\n",
    "\n",
    "        lstm_out, _ = self.lstm(char_cat)\n",
    "        lstm_out = lstm_out.view(len(input[0]), self.hidden_dim)\n",
    "        lstm_feats = self.hidden2tag(lstm_out)\n",
    "        \n",
    "        out = F.log_softmax(lstm_feats)\n",
    "        return out"
   ]
  },
  {
   "cell_type": "markdown",
   "metadata": {},
   "source": [
    "Функции тренировки, валидации и отрисовки графиков:\n",
    "Оценивать будем по *f1* мере.\n",
    "Лосс подсчитвается в *CRF*."
   ]
  },
  {
   "cell_type": "code",
   "execution_count": 0,
   "metadata": {
    "colab": {},
    "colab_type": "code",
    "id": "XX_g5XH-9_k1"
   },
   "outputs": [],
   "source": [
    "from tqdm import tqdm_notebook as tqdm\n",
    "%matplotlib inline\n",
    "import matplotlib.pyplot as plt\n",
    "from IPython.display import clear_output\n",
    "import torch.optim as optim\n",
    "from sklearn.metrics import f1_score\n",
    "\n",
    "\n",
    "def train_epoch(model, optimazer):\n",
    "    loss_log, acc_log = [], []\n",
    "    step = 0\n",
    "    \n",
    "    model.train(True)\n",
    "\n",
    "    for batch in tqdm(cnn_train_loader):   \n",
    "        data = batch[0]\n",
    "        target = batch[1]\n",
    "\n",
    "        optimazer.zero_grad()\n",
    "        model.hidden = model.init_hidden()\n",
    "\n",
    "        output = model(data)\n",
    "        loss = -model.CRF(output.unsqueeze(1), torch.tensor(target).unsqueeze(1)) / len(data[0])\n",
    "        \n",
    "        acc = f1_score(model.CRF.decode(output.unsqueeze(1)), \n",
    "                       target, average='macro').mean()\n",
    "        acc_log.append(acc.item())\n",
    "\n",
    "        loss.backward()\n",
    "        optimazer.step()\n",
    "        loss_log.append(loss.item())\n",
    "        step += 1\n",
    "    return loss_log, acc_log, step\n",
    "        \n",
    "    \n",
    "def test(model, criterion):\n",
    "    loss_log, acc_log = [], []\n",
    "    model.eval()\n",
    "\n",
    "    for batch in tqdm(cnn_val_loader):   \n",
    "        data = batch[0]\n",
    "        target = batch[1]\n",
    "\n",
    "        output = model(data)\n",
    "        loss = -model.CRF(output.unsqueeze(1), torch.tensor(target).unsqueeze(1)) / len(data[0])\n",
    "        \n",
    "        acc = f1_score(model.CRF.decode(output.unsqueeze(1)), \n",
    "                       target, average='macro').mean()\n",
    "        acc_log.append(acc.item())\n",
    "        \n",
    "        loss_log.append(loss.item())\n",
    "        \n",
    "    return loss_log, acc_log\n",
    "\n",
    "    \n",
    "def plot_history(train_history, val_history, title='loss'):\n",
    "    plt.figure()\n",
    "    plt.title('{}'.format(title))\n",
    "    plt.plot(train_history, label='train', zorder=1)\n",
    "    \n",
    "    points = np.array(val_history)\n",
    "    \n",
    "    plt.scatter(points[:, 0], points[:, 1], marker='+', s=180, c='orange', label='val', zorder=2)\n",
    "    plt.xlabel('train steps')\n",
    "    \n",
    "    plt.legend(loc='best')\n",
    "    plt.grid()\n",
    "\n",
    "    plt.show()\n",
    "    \n",
    "    \n",
    "def train(model, optimazer, n_epochs=15):\n",
    "    train_loss_log, train_acc_log = [], []\n",
    "    val_loss_log, val_acc_log = [], []\n",
    "    \n",
    "    for epoch in range(n_epochs):\n",
    "        print('Epoch {0} of {1}'.format(epoch, n_epochs))\n",
    "        \n",
    "        train_loss, train_acc, step = train_epoch(model, optimazer, criterion)\n",
    "        train_loss_log.extend(train_loss)\n",
    "        train_acc_log.extend(train_acc)\n",
    "        \n",
    "        val_loss, val_acc = test(model, criterion)\n",
    "        print(val_loss)\n",
    "        val_loss_log.append((step * (epoch + 1), np.mean(val_loss)))\n",
    "        print(val_acc)\n",
    "        val_acc_log.append((step * (epoch + 1), np.mean(val_acc)))\n",
    "        \n",
    "        clear_output()\n",
    "        plot_history(train_loss_log, val_loss_log)\n",
    "        plot_history(train_acc_log, val_acc_log, title='accuracy')\n",
    "\n",
    "        print(\"Epoch: {0}, val loss: {1}, val accuracy: {2}\".format(epoch, \n",
    "                                                                    np.mean(val_loss), np.mean(val_acc)))"
   ]
  },
  {
   "cell_type": "markdown",
   "metadata": {},
   "source": [
    "Запустим обучение с двумя окнами(размером 2 и 3) и 15 фильтрами в *CNN* на 15 эпохах."
   ]
  },
  {
   "cell_type": "code",
   "execution_count": 82,
   "metadata": {
    "colab": {
     "base_uri": "https://localhost:8080/",
     "height": 624
    },
    "colab_type": "code",
    "id": "B90vxa_B-kkQ",
    "outputId": "c6dd5d85-8c02-4d27-8209-6aae7b23490e"
   },
   "outputs": [
    {
     "data": {
      "image/png": "[encoded data removed]",
      "text/plain": [
       "<Figure size 432x288 with 1 Axes>"
      ]
     },
     "metadata": {
      "tags": []
     },
     "output_type": "display_data"
    },
    {
     "data": {
      "image/png": "[encoded data removed]",
      "text/plain": [
       "<Figure size 432x288 with 1 Axes>"
      ]
     },
     "metadata": {
      "tags": []
     },
     "output_type": "display_data"
    },
    {
     "name": "stdout",
     "output_type": "stream",
     "text": [
      "Epoch: 14, val loss: 0.43374539338625395, val accuracy: 0.35952607826151783\n",
      "CPU times: user 56min 59s, sys: 5min 12s, total: 1h 2min 12s\n",
      "Wall time: 1h 2min 30s\n"
     ]
    }
   ],
   "source": [
    "import torch.optim as optim\n",
    "\n",
    "CHAR_VOCAB_DIM = len(dl.char2index)\n",
    "WORD_VOCAB_DIM = len(dl.text_vocab.stoi)\n",
    "W_EMBEDDING_DIM = 200\n",
    "CH_EMBEDDING_DIM = 30\n",
    "HIDDEN_DIM = 230\n",
    "N_FILTERS = 15\n",
    "FILTER_SIZES = [2, 3]\n",
    "DROPOUT = 0.5\n",
    "N_EPOCHS = 15\n",
    "\n",
    "\n",
    "model = CNN_BILSTM(CHAR_VOCAB_DIM, CH_EMBEDDING_DIM, W_EMBEDDING_DIM, \n",
    "                   WORD_VOCAB_DIM, N_FILTERS, FILTER_SIZES,\n",
    "                   DROPOUT, HIDDEN_DIM)\n",
    "optimizer = optim.AdamW(model.parameters(), lr=0.001)\n",
    "\n",
    "%time train(model, optimizer, n_epochs=15)\n"
   ]
  },
  {
   "cell_type": "markdown",
   "metadata": {
    "colab": {},
    "colab_type": "code",
    "id": "NHRPHaJbge4P"
   },
   "source": [
    "Получили качество на валидации ~0.35."
   ]
  },
  {
   "cell_type": "code",
   "execution_count": 0,
   "metadata": {
    "colab": {},
    "colab_type": "code",
    "id": "roKD_sgY-OtL"
   },
   "outputs": [],
   "source": []
  },
  {
   "cell_type": "code",
   "execution_count": 0,
   "metadata": {
    "colab": {},
    "colab_type": "code",
    "id": "HzhESNpt-sCu"
   },
   "outputs": [],
   "source": []
  }
 ],
 "metadata": {
  "accelerator": "GPU",
  "colab": {
   "collapsed_sections": [],
   "name": "Untitled2.ipynb",
   "provenance": []
  },
  "kernelspec": {
   "display_name": "Python 3",
   "language": "python",
   "name": "python3"
  },
  "language_info": {
   "codemirror_mode": {
    "name": "ipython",
    "version": 3
   },
   "file_extension": ".py",
   "mimetype": "text/x-python",
   "name": "python",
   "nbconvert_exporter": "python",
   "pygments_lexer": "ipython3",
   "version": "3.7.4"
  }
 },
 "nbformat": 4,
 "nbformat_minor": 1
}
